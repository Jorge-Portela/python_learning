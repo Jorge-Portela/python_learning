{
 "cells": [
  {
   "cell_type": "markdown",
   "id": "1be2fd12-82d9-4cf0-a8e5-d98e49f813c6",
   "metadata": {},
   "source": [
    "# Exercícios do Módulo 1 - Operações, Variáveis e Input"
   ]
  },
  {
   "cell_type": "markdown",
   "id": "708193e6-9b62-4a0d-91fe-ca3f8d776100",
   "metadata": {},
   "source": [
    "### Parte 1 - Operações e Variáveis\n",
    "Crie um programa que imprima (print) os principais indicadores da loja Hashtag&Drink no último ano.\n",
    "Obs: faça tudo usando variáveis.\n",
    "\n",
    "Valores do último ano:\n",
    "\n",
    "Quantidade de Vendas de Coca = 150<br>\n",
    "Quantidade de Vendas de Pepsi = 130<br>\n",
    "Preço Unitário da Coca = 1,50 <br>\n",
    "Preço Unitário da Pepsi = 1,50<br>\n",
    "Custo da Loja: 2.500,00\n",
    "\n",
    "Use o bloco abaixo para criar todas as variáveis que precisar."
   ]
  },
  {
   "cell_type": "code",
   "execution_count": 2,
   "id": "ff7a1131-a5b9-4fc6-a5a0-767c5200efef",
   "metadata": {},
   "outputs": [],
   "source": [
    "coke_sell_amount = 150\n",
    "pepsi_sell_amount = 130\n",
    "coke_unit_price = 1.5\n",
    "pepsi_unit_price = 1.5\n",
    "store_total_cost = 2500"
   ]
  },
  {
   "cell_type": "markdown",
   "id": "537385e2-ca9a-4ac6-93c0-7bde6663f411",
   "metadata": {},
   "source": [
    "1. Qual foi o faturamento de Pepsi da Loja?"
   ]
  },
  {
   "cell_type": "code",
   "execution_count": 6,
   "id": "17f41ac6-9ab2-4269-980b-526db7722f3b",
   "metadata": {},
   "outputs": [
    {
     "name": "stdout",
     "output_type": "stream",
     "text": [
      "Pepsi income is $ 195.0\n"
     ]
    }
   ],
   "source": [
    "pepsi_income = pepsi_sell_amount *  pepsi_unit_price\n",
    "print(\"Pepsi income is $\", pepsi_income)"
   ]
  },
  {
   "cell_type": "markdown",
   "id": "de9643b2-72af-4beb-b75f-1486b2b9472b",
   "metadata": {},
   "source": [
    "2. Qual foi o faturamento de Coca da Loja?"
   ]
  },
  {
   "cell_type": "code",
   "execution_count": 8,
   "id": "378d550f-16d5-4833-8683-c274cca24e26",
   "metadata": {},
   "outputs": [
    {
     "name": "stdout",
     "output_type": "stream",
     "text": [
      "Coke income is $ 225.0\n"
     ]
    }
   ],
   "source": [
    "coke_income = coke_sell_amount *  coke_unit_price\n",
    "print(\"Coke income is $\",coke_income)"
   ]
  },
  {
   "cell_type": "markdown",
   "id": "1a735113-ab98-4855-adc5-5bcaf659b6b4",
   "metadata": {},
   "source": [
    "3. Qual foi o Lucro da loja?"
   ]
  },
  {
   "cell_type": "code",
   "execution_count": 16,
   "id": "54c9d500-5101-4fa0-aa26-2f91bbf2e7be",
   "metadata": {},
   "outputs": [
    {
     "name": "stdout",
     "output_type": "stream",
     "text": [
      "The Store Profit is $ -2080.0\n"
     ]
    }
   ],
   "source": [
    "store_total_income = coke_income + pepsi_income \n",
    "store_profit =  store_total_income - store_total_cost\n",
    "print(\"The Store Profit is $\",store_profit)"
   ]
  },
  {
   "cell_type": "markdown",
   "id": "81c9ed79-9f37-41a9-9542-8797dc446fe3",
   "metadata": {},
   "source": [
    "4. Qual foi a Margem da Loja? (Lembre-se, margem = Lucro / Faturamento). Não precisa formatar em percentual"
   ]
  },
  {
   "cell_type": "code",
   "execution_count": 18,
   "id": "b42d62be-6586-4150-951f-bb4a2b89da2a",
   "metadata": {},
   "outputs": [
    {
     "name": "stdout",
     "output_type": "stream",
     "text": [
      "-4.9523809523809526\n"
     ]
    }
   ],
   "source": [
    "store_profi_margin = (store_profit / store_total_income)\n",
    "print (store_profi_margin)"
   ]
  },
  {
   "cell_type": "code",
   "execution_count": null,
   "id": "1405c6d1-b0f7-47f6-b61e-068f2d75a1c8",
   "metadata": {},
   "outputs": [],
   "source": []
  }
 ],
 "metadata": {
  "kernelspec": {
   "display_name": "Python 3 (ipykernel)",
   "language": "python",
   "name": "python3"
  },
  "language_info": {
   "codemirror_mode": {
    "name": "ipython",
    "version": 3
   },
   "file_extension": ".py",
   "mimetype": "text/x-python",
   "name": "python",
   "nbconvert_exporter": "python",
   "pygments_lexer": "ipython3",
   "version": "3.12.7"
  }
 },
 "nbformat": 4,
 "nbformat_minor": 5
}
