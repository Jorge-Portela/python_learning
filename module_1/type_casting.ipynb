{
 "cells": [
  {
   "cell_type": "code",
   "execution_count": 3,
   "id": "3fc78ea8-6d8a-4152-8a5a-0eea60562aa3",
   "metadata": {},
   "outputs": [
    {
     "name": "stdout",
     "output_type": "stream",
     "text": [
      "The Store income is $1000, the total cost is $ 150.6 and the profit is $ 849.4\n"
     ]
    }
   ],
   "source": [
    "income = 1000\n",
    "cost = 150.6\n",
    "profit = income - cost\n",
    "print (\"The Store income is $\" +  str(income) + \", the total cost is $ \" + str(cost) + \" and the profit is $ \" + str (profit))"
   ]
  },
  {
   "cell_type": "code",
   "execution_count": null,
   "id": "bb9858f2-21b6-4329-87f7-41079bbec090",
   "metadata": {},
   "outputs": [],
   "source": []
  },
  {
   "cell_type": "code",
   "execution_count": null,
   "id": "943cd97a-03ec-482e-b6ed-52f2e26f6b98",
   "metadata": {},
   "outputs": [],
   "source": []
  }
 ],
 "metadata": {
  "kernelspec": {
   "display_name": "Python 3 (ipykernel)",
   "language": "python",
   "name": "python3"
  },
  "language_info": {
   "codemirror_mode": {
    "name": "ipython",
    "version": 3
   },
   "file_extension": ".py",
   "mimetype": "text/x-python",
   "name": "python",
   "nbconvert_exporter": "python",
   "pygments_lexer": "ipython3",
   "version": "3.12.7"
  }
 },
 "nbformat": 4,
 "nbformat_minor": 5
}
