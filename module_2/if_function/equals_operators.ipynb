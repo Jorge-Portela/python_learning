{
 "cells": [
  {
   "cell_type": "code",
   "execution_count": null,
   "metadata": {},
   "outputs": [],
   "source": [
    "==    igual\n",
    "!=    diferente\n",
    ">     maior que (>= maior ou igual)\n",
    "<     menor que (<= menor ou igual)\n",
    "in    texto existe dentro de outro texto \n",
    "not   verifica o contrário da comparação\n",
    "\n",
    "Obs: Se em alguma condição você não quiser fazer nada, você pode simplesmente escrever:\n",
    "pass"
   ]
  },
  {
   "cell_type": "code",
   "execution_count": 3,
   "metadata": {},
   "outputs": [
    {
     "name": "stdout",
     "output_type": "stream",
     "text": [
      "Progam 1\n",
      "Different incomes\n"
     ]
    }
   ],
   "source": [
    "income_store1 = 2400\n",
    "income_store2 = 2000\n",
    "email = \"harry.potter@gmail.com\"\n",
    "\n",
    "print(\"Progam 1\")\n",
    "if income_store1 == income_store2:\n",
    "  print(\"Equals incomes\")\n",
    "else:\n",
    "  print(\"Different incomes\")"
   ]
  },
  {
   "cell_type": "code",
   "execution_count": null,
   "metadata": {},
   "outputs": [],
   "source": []
  }
 ],
 "metadata": {
  "kernelspec": {
   "display_name": "Python 3",
   "language": "python",
   "name": "python3"
  },
  "language_info": {
   "codemirror_mode": {
    "name": "ipython",
    "version": 3
   },
   "file_extension": ".py",
   "mimetype": "text/x-python",
   "name": "python",
   "nbconvert_exporter": "python",
   "pygments_lexer": "ipython3",
   "version": "3.13.0"
  }
 },
 "nbformat": 4,
 "nbformat_minor": 2
}
