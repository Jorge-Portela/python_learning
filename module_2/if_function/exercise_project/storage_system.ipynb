{
 "cells": [
  {
   "cell_type": "markdown",
   "metadata": {},
   "source": [
    "## 1. Criando um mini sistema de controle de estoque\n",
    "\n",
    "- Crie um sistema para ser usado pelo time de controle de estoque de um centro de distribuição.\n",
    "- Imagine que ao fim de todo dia, o time conta quantas unidades de produto existem no estoque. Se tivermos um estoque abaixo do estoque permitido para aquela categoria do produto, o time deve ser avisado (print) para fazer um novo pedido daquele produto.\n",
    "- Cada categoria de produto tem um estoque mínimo diferente, segundo a regra abaixo:\n",
    "\n",
    "- alimentos -> Estoque mínimo: 50\n",
    "- bebidas -> Estoque mínimo: 75\n",
    "- limpeza -> Estoque mínimo: 30\n",
    "\n",
    "Para isso vamos criar um programa que pede 3 inputs do usuário: nome do produto, categoria e quantidade atual em estoque.\n",
    "\n",
    "Se o produto tiver abaixo do estoque mínimo da categoria dele, o programa deve printar a mensagem \"Solicitar {produto} à equipe de compras, temos apenas {unidades} em estoque\"\n",
    "\n",
    "Exemplo: Se o usuário preenche os inputs com: bebidas, dolly, 90, o programa não deve exibir nenhuma mensagem.<br>\n",
    "Agora, se o usuário preenche os inputs com: bebidas, guaraná, 60, o programa deve exibir a mensagem \"Solicitar guaraná à equipe de compras, temos apenas 60 unidades em estoque.\n",
    "\n",
    "Obs: lembre de usar o int() para transformar o número inserido pelo usuário no input de string para int.<br>\n",
    "Obs2: Caso o usuário não preencha alguma das 3 informações, o programa deve exibir uma mensagem para avisá-lo de preencher corretamente."
   ]
  },
  {
   "cell_type": "code",
   "execution_count": null,
   "metadata": {},
   "outputs": [
    {
     "ename": "ValueError",
     "evalue": "invalid literal for int() with base 10: ''",
     "output_type": "error",
     "traceback": [
      "\u001b[1;31m---------------------------------------------------------------------------\u001b[0m",
      "\u001b[1;31mValueError\u001b[0m                                Traceback (most recent call last)",
      "Cell \u001b[1;32mIn[24], line 4\u001b[0m\n\u001b[0;32m      1\u001b[0m name_product \u001b[38;5;241m=\u001b[39m \u001b[38;5;28minput\u001b[39m(\u001b[38;5;124m\"\u001b[39m\u001b[38;5;124mEnter product name: \u001b[39m\u001b[38;5;124m\"\u001b[39m)\n\u001b[1;32m----> 4\u001b[0m type_product \u001b[38;5;241m=\u001b[39m \u001b[38;5;28;43mint\u001b[39;49m\u001b[43m(\u001b[49m\u001b[38;5;28;43minput\u001b[39;49m\u001b[43m(\u001b[49m\u001b[38;5;124;43m\"\u001b[39;49m\u001b[38;5;124;43mEnter product Type (1 - Food / 2 - Drink / 3 - Cleaning): \u001b[39;49m\u001b[38;5;124;43m\"\u001b[39;49m\u001b[43m)\u001b[49m\u001b[43m)\u001b[49m\n\u001b[0;32m      6\u001b[0m amount_product \u001b[38;5;241m=\u001b[39m \u001b[38;5;28mint\u001b[39m(\u001b[38;5;28minput\u001b[39m(\u001b[38;5;124m\"\u001b[39m\u001b[38;5;124mEnter Amount of product: \u001b[39m\u001b[38;5;124m\"\u001b[39m))\n\u001b[0;32m      9\u001b[0m \u001b[38;5;28;01mif\u001b[39;00m \u001b[38;5;129;01mnot\u001b[39;00m name_product: \n",
      "\u001b[1;31mValueError\u001b[0m: invalid literal for int() with base 10: ''"
     ]
    }
   ],
   "source": [
    "\n",
    "name_product = input(\"Enter product name: \")\n",
    "if not name_product.strip():\n",
    "  input(\"Please fill the Product Name with letter\")\n",
    "  name_product = input(\"Enter product name: \")\n",
    "\n",
    "type_product = input(\"Enter product Type (1 - Food / 2 - Drink / 3 - Cleaning): \")\n",
    "if not type_product.strip().isdigit():\n",
    "  input(\"Please fill the Product Type (1 - Food / 2 - Drink / 3 - Cleaning): \")\n",
    "  type_product = input(\"Enter product Type (1 - Food / 2 - Drink / 3 - Cleaning): \")\n",
    "\n",
    "amount_product = input(\"Enter Amount of product: \")\n",
    "if not  amount_product.strip().isdigit():\n",
    "  input(\"Please fill the Product Amount with numbers\")\n",
    "  amount_product = input(\"Enter Amount of product: \")\n",
    "\n",
    "type_product = int(type_product)\n",
    "amount_product = int(amount_product)\n",
    "\n",
    "if name_product and type_product and amount_product:\n",
    "  #Food Field \n",
    "  if  type_product == 1:\n",
    "      type_product = \"Food\"\n",
    "      if amount_product < 50:\n",
    "        print(f\"Request {type_product} to Purchasing team, we have only {amount_product}.\")\n",
    "\n",
    "  #Drink Field\n",
    "  elif type_product == 2:\n",
    "      type_product = \"Drink\"\n",
    "      if amount_product < 75:\n",
    "        print(f\"Request {type_product} to Purchasing team, we have only {amount_product}.\")\n",
    "\n",
    "  #Cleaning Field\n",
    "  elif type_product == 3:\n",
    "      type_product = \"Cleaning\"\n",
    "      if amount_product < 30:\n",
    "        print(f\"Request {type_product} to Purchasing team, we have only {amount_product}.\")\n",
    "  else: print(\"Invalid product type. Please enter 1 (Food), 2 (Drink), or 3 (Cleaning).\")\n",
    "              \n",
    "else:\n",
    "  print(\"Please, fil all the fields.\")\n",
    "\n",
    "\n",
    "\n",
    "\n",
    "\n",
    "\n",
    "\n",
    "\n",
    "\n",
    "\n"
   ]
  },
  {
   "cell_type": "code",
   "execution_count": null,
   "metadata": {},
   "outputs": [],
   "source": [
    "\n"
   ]
  }
 ],
 "metadata": {
  "kernelspec": {
   "display_name": "Python 3",
   "language": "python",
   "name": "python3"
  },
  "language_info": {
   "codemirror_mode": {
    "name": "ipython",
    "version": 3
   },
   "file_extension": ".py",
   "mimetype": "text/x-python",
   "name": "python",
   "nbconvert_exporter": "python",
   "pygments_lexer": "ipython3",
   "version": "3.13.0"
  }
 },
 "nbformat": 4,
 "nbformat_minor": 2
}
