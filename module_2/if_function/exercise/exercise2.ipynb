{
 "cells": [
  {
   "cell_type": "markdown",
   "metadata": {},
   "source": [
    "## 2. Cálculo de bônus com uma nova regra\n",
    "\n",
    "- Agora, crie um novo código que calcule e dê um print no bônus dos funcionários novamente. Porém há uma nova regra nesse 2º caso:\n",
    "\n",
    "A meta é 1000 vendas<br>\n",
    "Agora, os funcionários que venderem muito acima da meta ganham mais bônus do que os outros. Então o bônus é definido da seguinte forma:<br>\n",
    "\n",
    "- Se vendas funcionário for maior ou igual a 2000, então o bônus é de 15% sobre o valor de vendas\n",
    "- Se vendas funcionário for menor do que 2000 e maior ou igual a 1000, então o bônus é de 10% sobre o valor de vendas\n",
    "- Se vendas funcionário for menos do que 1000 então o bônus do funcionário é de 0.\n",
    "\n",
    "Use as mesmas variáveis de vendas_funcionários"
   ]
  },
  {
   "cell_type": "code",
   "execution_count": 2,
   "metadata": {},
   "outputs": [
    {
     "name": "stdout",
     "output_type": "stream",
     "text": [
      "Bonus of employee A: $100.0\n",
      "Bonus of employee B: $0\n",
      "Bonus of employee C: $405.0\n"
     ]
    }
   ],
   "source": [
    "employeeA_sell = 1000\n",
    "employeeB_sell = 770\n",
    "employeeC_sell = 2700\n",
    "\n",
    "#Bonus function employee A \n",
    "if employeeA_sell >= 2000:\n",
    "  bonus = employeeA_sell * 0.15\n",
    "elif employeeA_sell < 2000 and employeeA_sell >= 1000:\n",
    "  bonus = employeeA_sell * 0.1\n",
    "else:\n",
    "  bonus = 0\n",
    "print(f\"Bonus of employee A: ${bonus}\")\n",
    "\n",
    "#Bonus function employee B\n",
    "if employeeB_sell >= 2000:\n",
    "  bonus = employeeB_sell * 0.15\n",
    "elif employeeB_sell < 2000 and employeeB_sell >= 1000:\n",
    "  bonus = employeeB_sell * 0.1\n",
    "else:\n",
    "  bonus = 0\n",
    "print(f\"Bonus of employee B: ${bonus}\")\n",
    "\n",
    "\n",
    "#Bonus function employee C\n",
    "if employeeC_sell >= 2000:\n",
    "  bonus = employeeC_sell * 0.15\n",
    "elif employeeC_sell < 2000 and employeeC_sell >= 1000:\n",
    "  bonus = employeeC_sell * 0.1\n",
    "else:\n",
    "  bonus = 0\n",
    "print(f\"Bonus of employee C: ${bonus}\")\n"
   ]
  },
  {
   "cell_type": "code",
   "execution_count": null,
   "metadata": {},
   "outputs": [],
   "source": []
  }
 ],
 "metadata": {
  "kernelspec": {
   "display_name": "Python 3",
   "language": "python",
   "name": "python3"
  },
  "language_info": {
   "codemirror_mode": {
    "name": "ipython",
    "version": 3
   },
   "file_extension": ".py",
   "mimetype": "text/x-python",
   "name": "python",
   "nbconvert_exporter": "python",
   "pygments_lexer": "ipython3",
   "version": "3.13.0"
  }
 },
 "nbformat": 4,
 "nbformat_minor": 2
}
