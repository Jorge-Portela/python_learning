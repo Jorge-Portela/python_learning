{
 "cells": [
  {
   "cell_type": "raw",
   "metadata": {
    "vscode": {
     "languageId": "raw"
    }
   },
   "source": [
    "0 1 2 3 4 5 6 7 8 9 10 11 12 13 14\n",
    "p e t e r @ g m a i l  .  c  o  m \n",
    "Pick a item of a string: text[index]\n",
    "Pick a length of a text: len(text) "
   ]
  }
 ],
 "metadata": {
  "language_info": {
   "name": "python"
  }
 },
 "nbformat": 4,
 "nbformat_minor": 2
}
