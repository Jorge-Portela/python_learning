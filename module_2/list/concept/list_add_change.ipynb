{
 "cells": [
  {
   "cell_type": "markdown",
   "metadata": {},
   "source": [
    "# Alterações de Variáveis\n",
    "\n",
    "Estrutura:\n",
    "\n",
    "- variavel = variavel + outro_valor\n",
    "\n",
    "ou então\n",
    "\n",
    "- variavel += outro_valor"
   ]
  },
  {
   "cell_type": "markdown",
   "metadata": {},
   "source": [
    "Exemplo: vamos adicionar às variáveis criadas o Produto IPad, 500 vendas"
   ]
  },
  {
   "cell_type": "code",
   "execution_count": 4,
   "metadata": {},
   "outputs": [
    {
     "name": "stdout",
     "output_type": "stream",
     "text": [
      "['mac', 'iphone', 'Ipad']\n",
      "[100, 200, 750]\n"
     ]
    }
   ],
   "source": [
    "lista = ['mac', 'iphone']\n",
    "vendas = [100, 200]\n",
    "#adicionando IPad na lista\n",
    "lista.append('Ipad')\n",
    "vendas.append(750)\n",
    "print(lista)\n",
    "print(vendas)"
   ]
  },
  {
   "cell_type": "code",
   "execution_count": 1,
   "metadata": {},
   "outputs": [
    {
     "name": "stdout",
     "output_type": "stream",
     "text": [
      "1050\n"
     ]
    }
   ],
   "source": [
    "soma_vendas = 300\n",
    "#adicionando na soma a quantidade de IPad\n",
    "vendas_mais_ipad = soma_vendas  + 750\n",
    "print(vendas_mais_ipad)"
   ]
  },
  {
   "cell_type": "code",
   "execution_count": null,
   "metadata": {},
   "outputs": [],
   "source": [
    "\n",
    "email = 'Esse mês vendemos um total de {} produtos, sendo:\\n{} unidades de {}\\n{} unidades de {}'.format(soma_vendas, vendas[0], lista[0], vendas[1], lista[1])\n",
    "#adicionando no fim do texto o Ipad\n",
    "\n",
    "\n",
    "\n",
    "\n",
    "print(email)"
   ]
  }
 ],
 "metadata": {
  "kernelspec": {
   "display_name": "Python 3",
   "language": "python",
   "name": "python3"
  },
  "language_info": {
   "codemirror_mode": {
    "name": "ipython",
    "version": 3
   },
   "file_extension": ".py",
   "mimetype": "text/x-python",
   "name": "python",
   "nbconvert_exporter": "python",
   "pygments_lexer": "ipython3",
   "version": "3.13.0"
  }
 },
 "nbformat": 4,
 "nbformat_minor": 4
}
