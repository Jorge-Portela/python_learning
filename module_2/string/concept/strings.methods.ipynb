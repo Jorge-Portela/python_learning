{
 "cells": [
  {
   "cell_type": "markdown",
   "metadata": {},
   "source": [
    "# Métodos de String\n",
    "\n",
    "Não decore os métodos, os que você for mais usando com o tempo você vai decorar o que precisar.\n",
    "\n",
    "Mas a dica é: use essa lista para consulta e busque entender como os métodos funcionam e suas aplicações, para poder consultar e usar quando precisar.\n",
    "\n",
    "## Métodos Embutidos no Python que funcionam em string:"
   ]
  },
  {
   "cell_type": "markdown",
   "metadata": {},
   "source": [
    "- Sinal de Mais (+) -> Serve para concatenar strings"
   ]
  },
  {
   "cell_type": "code",
   "execution_count": 2,
   "metadata": {},
   "outputs": [
    {
     "name": "stdout",
     "output_type": "stream",
     "text": [
      "peter@gmail.com\n"
     ]
    }
   ],
   "source": [
    "#Application:\n",
    "user = 'peter'\n",
    "server = 'gmail.com'\n",
    "print(user + '@' + server)"
   ]
  },
  {
   "cell_type": "markdown",
   "metadata": {},
   "source": [
    "- str() -> transforma o valor em string"
   ]
  },
  {
   "cell_type": "code",
   "execution_count": null,
   "metadata": {},
   "outputs": [
    {
     "name": "stdout",
     "output_type": "stream",
     "text": [
      "The income of store was $ 1000\n"
     ]
    }
   ],
   "source": [
    "#Application:\n",
    "income = 1000\n",
    "print('The income of store was $ ' + str(income))  \n"
   ]
  },
  {
   "cell_type": "markdown",
   "metadata": {},
   "source": [
    "- in e not -> Servem para fazer verificações em string"
   ]
  },
  {
   "cell_type": "code",
   "execution_count": 1,
   "metadata": {},
   "outputs": [
    {
     "name": "stdout",
     "output_type": "stream",
     "text": [
      "True\n",
      "False\n"
     ]
    }
   ],
   "source": [
    "#Application:\n",
    "server = 'gmail.com'\n",
    "print(server in 'peter@gmail.com')\n",
    "print(server not in 'peter@gmail.com')\n"
   ]
  },
  {
   "cell_type": "markdown",
   "metadata": {},
   "source": [
    "- len() -> Calcula o tamanho do texto (quantidade de caracteres)"
   ]
  },
  {
   "cell_type": "code",
   "execution_count": 8,
   "metadata": {},
   "outputs": [
    {
     "name": "stdout",
     "output_type": "stream",
     "text": [
      "The personal ID 10 digits.\n",
      "The Brazil name has 6 digits.\n"
     ]
    }
   ],
   "source": [
    "#Application:\n",
    "person_id = '1538943217'\n",
    "country_name = 'Brazil'\n",
    "print('The personal ID ' + str(len(person_id)) + ' digits.')\n",
    "print(f'The Brazil name has {len(country_name)} digits.')"
   ]
  },
  {
   "cell_type": "markdown",
   "metadata": {},
   "source": [
    "## Métodos Específicos de String:"
   ]
  },
  {
   "cell_type": "markdown",
   "metadata": {},
   "source": [
    "- capitalize() -> Coloca a 1ª letra Maiúscula"
   ]
  },
  {
   "cell_type": "code",
   "execution_count": 15,
   "metadata": {},
   "outputs": [
    {
     "name": "stdout",
     "output_type": "stream",
     "text": [
      "Peter\n"
     ]
    }
   ],
   "source": [
    "#Application:\n",
    "text = 'peter'\n",
    "print(text.capitalize())\n"
   ]
  },
  {
   "cell_type": "markdown",
   "metadata": {},
   "source": [
    "- casefold() -> Transforma todas as letras em minúsculas (existe lower() mas o casefold é melhor normalmente)"
   ]
  },
  {
   "cell_type": "code",
   "execution_count": 13,
   "metadata": {},
   "outputs": [
    {
     "name": "stdout",
     "output_type": "stream",
     "text": [
      "peter\n",
      "peter\n"
     ]
    }
   ],
   "source": [
    "#Application:\n",
    "text = 'Peter'\n",
    "print(text.lower())\n",
    "print(text.casefold())\n"
   ]
  },
  {
   "cell_type": "markdown",
   "metadata": {},
   "source": [
    "- count()\t-> Quantidade de vezes que um valor aparece na string"
   ]
  },
  {
   "cell_type": "code",
   "execution_count": 16,
   "metadata": {},
   "outputs": [
    {
     "name": "stdout",
     "output_type": "stream",
     "text": [
      "2\n"
     ]
    }
   ],
   "source": [
    "#Application:\n",
    "text = 'peter@gmail.com'\n",
    "print(text.count('e')) "
   ]
  },
  {
   "cell_type": "markdown",
   "metadata": {},
   "source": [
    "- endswith() -> Verifica se o texto termina com um valor específico e dá como resposta True ou False"
   ]
  },
  {
   "cell_type": "code",
   "execution_count": 1,
   "metadata": {},
   "outputs": [
    {
     "name": "stdout",
     "output_type": "stream",
     "text": [
      "True\n"
     ]
    }
   ],
   "source": [
    "#Application:\n",
    "text = 'peter@gmail.com'\n",
    "print(text.endswith('gmail.com'))\n"
   ]
  },
  {
   "cell_type": "markdown",
   "metadata": {},
   "source": [
    "- find() -> Procura um texto dentro de outro texto e dá como resposta a posição do texto encontrado"
   ]
  },
  {
   "cell_type": "code",
   "execution_count": 2,
   "metadata": {},
   "outputs": [
    {
     "name": "stdout",
     "output_type": "stream",
     "text": [
      "5\n"
     ]
    }
   ],
   "source": [
    "#Application:\n",
    "text = 'peter@gmail.com'\n",
    "print(text.find('@'))"
   ]
  },
  {
   "cell_type": "markdown",
   "metadata": {},
   "source": [
    "- format() -> Formata uma string de acordo com os valores passados. Já usamos bastante ao longo do programa."
   ]
  },
  {
   "cell_type": "code",
   "execution_count": 5,
   "metadata": {},
   "outputs": [
    {
     "name": "stdout",
     "output_type": "stream",
     "text": [
      "The store income was 1000.0 BRL.\n"
     ]
    }
   ],
   "source": [
    "#Application:\n",
    "income = 1000.00\n",
    "print('The store income was {} BRL.'.format(income))"
   ]
  },
  {
   "cell_type": "markdown",
   "metadata": {},
   "source": [
    "- isalnum() -> Verifica se um texto é todo feito com caracteres alfanuméricos (letras e números) -> letras com acento ou ç são considerados letras para essa função."
   ]
  },
  {
   "cell_type": "code",
   "execution_count": null,
   "metadata": {},
   "outputs": [
    {
     "name": "stdout",
     "output_type": "stream",
     "text": [
      "True\n"
     ]
    }
   ],
   "source": [
    "#Application:\n",
    "text = 'Peter04'\n",
    "print(text.isalnum())"
   ]
  },
  {
   "cell_type": "markdown",
   "metadata": {},
   "source": [
    "- isalpha() -> Verifica se um texto é todo feito de letras."
   ]
  },
  {
   "cell_type": "code",
   "execution_count": 10,
   "metadata": {},
   "outputs": [
    {
     "name": "stdout",
     "output_type": "stream",
     "text": [
      "True\n",
      "False\n"
     ]
    }
   ],
   "source": [
    "#Application:\n",
    "text = 'Zaldaña'\n",
    "text2 = 'Tchala45'\n",
    "\n",
    "print(text.isalpha())\n",
    "print(text2.isalpha())\n"
   ]
  },
  {
   "cell_type": "markdown",
   "metadata": {},
   "source": [
    "- isnumeric()\t-> Verifica se um texto é todo feito por números."
   ]
  },
  {
   "cell_type": "code",
   "execution_count": null,
   "metadata": {},
   "outputs": [],
   "source": []
  },
  {
   "cell_type": "markdown",
   "metadata": {},
   "source": [
    "- replace() -> Substitui um texto por um outro texto em uma string."
   ]
  },
  {
   "cell_type": "code",
   "execution_count": null,
   "metadata": {},
   "outputs": [],
   "source": []
  },
  {
   "cell_type": "markdown",
   "metadata": {},
   "source": [
    "- split()\t-> Separa uma string de acordo com um delimitador em vários textos diferentes."
   ]
  },
  {
   "cell_type": "code",
   "execution_count": null,
   "metadata": {},
   "outputs": [],
   "source": []
  },
  {
   "cell_type": "markdown",
   "metadata": {},
   "source": [
    "- splitlines() -> separa um texto em vários textos de acordo com os \"enters\" do texto"
   ]
  },
  {
   "cell_type": "code",
   "execution_count": null,
   "metadata": {},
   "outputs": [],
   "source": []
  },
  {
   "cell_type": "markdown",
   "metadata": {},
   "source": [
    "- startswith() -> Verifica se a string começa com determinado texto"
   ]
  },
  {
   "cell_type": "code",
   "execution_count": null,
   "metadata": {},
   "outputs": [],
   "source": []
  },
  {
   "cell_type": "markdown",
   "metadata": {},
   "source": [
    "- strip()\t-> Retira caracteres indesejados dos textos. Por padrão, retira espaços \"extras\" no início e no final"
   ]
  },
  {
   "cell_type": "code",
   "execution_count": null,
   "metadata": {},
   "outputs": [],
   "source": []
  },
  {
   "cell_type": "markdown",
   "metadata": {},
   "source": [
    "- title() -> Coloca a 1ª letra de cada palavra em maiúscula"
   ]
  },
  {
   "cell_type": "code",
   "execution_count": null,
   "metadata": {},
   "outputs": [],
   "source": []
  },
  {
   "cell_type": "markdown",
   "metadata": {},
   "source": [
    "- upper()\t-> Coloca o texto todo em letra maiúscula"
   ]
  },
  {
   "cell_type": "code",
   "execution_count": null,
   "metadata": {},
   "outputs": [],
   "source": []
  }
 ],
 "metadata": {
  "kernelspec": {
   "display_name": "Python 3",
   "language": "python",
   "name": "python3"
  },
  "language_info": {
   "codemirror_mode": {
    "name": "ipython",
    "version": 3
   },
   "file_extension": ".py",
   "mimetype": "text/x-python",
   "name": "python",
   "nbconvert_exporter": "python",
   "pygments_lexer": "ipython3",
   "version": "3.13.0"
  }
 },
 "nbformat": 4,
 "nbformat_minor": 2
}
