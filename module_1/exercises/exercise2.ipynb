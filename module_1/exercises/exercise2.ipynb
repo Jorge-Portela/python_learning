{
 "cells": [
  {
   "cell_type": "markdown",
   "id": "cc62545b-3389-4dbc-a00e-53d6f82d73ee",
   "metadata": {},
   "source": [
    "### Parte 2 - Inputs e Strings"
   ]
  },
  {
   "cell_type": "markdown",
   "id": "61405ed7-e75f-4663-8cd8-795d2a76a9f3",
   "metadata": {},
   "source": [
    "A maioria das empresas trabalham com um Código para cada produto que possuem. A Hashtag&Drink, por exemplo, tem mais de 1.000 produtos e possui um código para cada produto.\n",
    "Ex: \n",
    "Coca -> Código: BEB1300543<br>\n",
    "Pepsi -> Código: BEB1300545<br>\n",
    "Vinho Primitivo Lucarelli -> Código: BAC1546001<br>\n",
    "Vodka Smirnoff -> Código: BAC17675002<br>\n",
    "\n",
    "Repare que todas as bebidas não alcóolicas tem o início do Código \"BEB\" e todas as bebidas alcóolicas tem o início do código \"BAC\".\n",
    "\n",
    "Crie um programa de consulta de bebida que, dado um código qualquer, identifique se a bebida é alcóolica. O programa deve responder True para bebidas alcóolicas e False para bebidas não alcóolicas. Para inserir um código, use um input.\n",
    "\n",
    "\n",
    "Dica: Lembre-se do comando in para strings e sempre insira os códigos com letra maiúscula para facilitar."
   ]
  },
  {
   "cell_type": "code",
   "execution_count": 15,
   "id": "ca3ae50b-9138-4a32-ae7f-0e87dd8adcc4",
   "metadata": {},
   "outputs": [
    {
     "name": "stdin",
     "output_type": "stream",
     "text": [
      "ENTER DRINKIN SKU: BAC5478963\n"
     ]
    },
    {
     "name": "stdout",
     "output_type": "stream",
     "text": [
      "IS THE DRINK ALCOHOLIC? (TRUE = YES) (FALSE = NO):\n",
      "True\n"
     ]
    }
   ],
   "source": [
    "drink = input (\"ENTER DRINKIN SKU:\")\n",
    "print(\"IS THE DRINK ALCOHOLIC? (TRUE = YES) (FALSE = NO):\")\n",
    "print(\"BAC\" in drink)"
   ]
  },
  {
   "cell_type": "code",
   "execution_count": null,
   "id": "037eeda1-9988-4280-9782-e09fd56f39ba",
   "metadata": {},
   "outputs": [],
   "source": []
  }
 ],
 "metadata": {
  "kernelspec": {
   "display_name": "Python 3 (ipykernel)",
   "language": "python",
   "name": "python3"
  },
  "language_info": {
   "codemirror_mode": {
    "name": "ipython",
    "version": 3
   },
   "file_extension": ".py",
   "mimetype": "text/x-python",
   "name": "python",
   "nbconvert_exporter": "python",
   "pygments_lexer": "ipython3",
   "version": "3.12.7"
  }
 },
 "nbformat": 4,
 "nbformat_minor": 5
}
