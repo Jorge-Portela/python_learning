{
 "cells": [
  {
   "cell_type": "markdown",
   "id": "59b26e8a-f802-4256-9b18-1ff502e101a9",
   "metadata": {},
   "source": [
    "## Type Casting"
   ]
  },
  {
   "cell_type": "code",
   "execution_count": 5,
   "id": "3fc78ea8-6d8a-4152-8a5a-0eea60562aa3",
   "metadata": {},
   "outputs": [
    {
     "name": "stdout",
     "output_type": "stream",
     "text": [
      "The Store income is $1000, the total cost is $ 150.6 and the profit is $ 849.4\n"
     ]
    }
   ],
   "source": [
    "income = 1000\n",
    "cost = 150.6\n",
    "profit = income - cost\n",
    "print (\"The Store income is $\" +  str(income) + \", the total cost is $ \" + str(cost) + \n",
    "       \" and the profit is $ \" + str (profit))"
   ]
  },
  {
   "cell_type": "markdown",
   "id": "10b83103-a144-45ba-845b-60c7955b80b0",
   "metadata": {},
   "source": [
    "### Format Method"
   ]
  },
  {
   "cell_type": "code",
   "execution_count": 15,
   "id": "943cd97a-03ec-482e-b6ed-52f2e26f6b98",
   "metadata": {},
   "outputs": [
    {
     "name": "stdout",
     "output_type": "stream",
     "text": [
      "The Store income is $ 1000, the total cost is $ 150.6 and the profit is $ 849.4\n"
     ]
    }
   ],
   "source": [
    "income = 1000\n",
    "cost = 150.6\n",
    "profit = income - cost\n",
    "print (\"The Store income is $ {}, the total cost is $ {} and the profit is $ {}\".format(income, cost, profit))\n"
   ]
  },
  {
   "cell_type": "code",
   "execution_count": null,
   "id": "acdb1f54-983b-401a-acad-1ec4d4bc7039",
   "metadata": {},
   "outputs": [],
   "source": []
  },
  {
   "cell_type": "code",
   "execution_count": null,
   "id": "26bc8c04",
   "metadata": {},
   "outputs": [],
   "source": []
  }
 ],
 "metadata": {
  "kernelspec": {
   "display_name": "Python 3 (ipykernel)",
   "language": "python",
   "name": "python3"
  },
  "language_info": {
   "codemirror_mode": {
    "name": "ipython",
    "version": 3
   },
   "file_extension": ".py",
   "mimetype": "text/x-python",
   "name": "python",
   "nbconvert_exporter": "python",
   "pygments_lexer": "ipython3",
   "version": "3.12.7"
  }
 },
 "nbformat": 4,
 "nbformat_minor": 5
}
