{
 "cells": [
  {
   "cell_type": "markdown",
   "metadata": {},
   "source": [
    "# Adicionar e Remover itens de uma lista\n",
    "\n",
    "Adicionar:<br>\n",
    "lista.append(item)\n",
    "\n",
    "Remover:<br>\n",
    "item_removido = lista.pop(indice)<br>\n",
    "lista.remove(item)\n",
    "\n",
    "Digamos que você está construindo o controle de produtos da Apple.<br>\n",
    "E a Apple lançou o IPhone 11 e irá tirar dos seus estoques o IPhone X"
   ]
  },
  {
   "cell_type": "code",
   "execution_count": null,
   "metadata": {},
   "outputs": [],
   "source": [
    "produtos = ['apple tv', 'mac', 'iphone x', 'IPad', 'apple watch', 'mac book', 'airpods']"
   ]
  },
  {
   "cell_type": "markdown",
   "metadata": {
    "vscode": {
     "languageId": "plaintext"
    }
   },
   "source": [
    "## Existem 2 formas de tratar o erro:\n",
    "\n",
    "1. Criar um if para evitar que ele aconteça\n",
    "\n",
    "2. Esperar que ele possa acontecer e tratar caso o erro aconteça com:"
   ]
  },
  {
   "cell_type": "code",
   "execution_count": null,
   "metadata": {
    "vscode": {
     "languageId": "plaintext"
    }
   },
   "outputs": [],
   "source": [
    "try:\n",
    "    tentar fazer\n",
    "except:\n",
    "    caso dê errado"
   ]
  },
  {
   "cell_type": "code",
   "execution_count": null,
   "metadata": {
    "vscode": {
     "languageId": "plaintext"
    }
   },
   "outputs": [],
   "source": []
  }
 ],
 "metadata": {
  "language_info": {
   "name": "python"
  }
 },
 "nbformat": 4,
 "nbformat_minor": 2
}
