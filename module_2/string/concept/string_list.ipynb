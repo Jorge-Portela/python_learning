{
 "cells": [
  {
   "cell_type": "raw",
   "metadata": {
    "vscode": {
     "languageId": "raw"
    }
   },
   "source": [
    " 0   1   2   3   4   5  6  7  8  9  10 11 12 13 14\n",
    " p   e   t   e   r   @  g  m  a  i  l   .  c  o  m \n",
    "-15 -14 -13 -12 -11 -10 -9 -8 -7 -6 -5 -4 -3 -2 -1 \n",
    "\n",
    "Pick a item of a string: text[index]\n",
    "Pick a length of a text: len(text) "
   ]
  },
  {
   "cell_type": "code",
   "execution_count": 7,
   "metadata": {},
   "outputs": [
    {
     "name": "stdout",
     "output_type": "stream",
     "text": [
      "15\n",
      "e\n",
      "r\n"
     ]
    }
   ],
   "source": [
    "email = 'peter@gmail.com'\n",
    "name = 'Peter Portter'\n",
    "\n",
    "print(len(email))\n",
    "print(email[3])\n",
    "print(name[4])"
   ]
  },
  {
   "cell_type": "code",
   "execution_count": 17,
   "metadata": {},
   "outputs": [
    {
     "name": "stdout",
     "output_type": "stream",
     "text": [
      "The length of email 15 characters:\n",
      "1 - First character ?\n",
      "2 - Last character?\n",
      "3 - Email Server?\n",
      "Answer:\n",
      "1 - p\n",
      "2 - m\n",
      "3 - gmail.com\n"
     ]
    }
   ],
   "source": [
    "print('The length of email ' + str(len(email)) + ' characters:')\n",
    "print('1 - First character ' + '?')\n",
    "print('2 - Last character' + '?')\n",
    "print('3 - Email Server' + '?')\n",
    "print('Answer:')\n",
    "print('1 - ' + email[0])\n",
    "print('2 - ' + email[-1])\n",
    "print('3 - ' + email[6:])\n"
   ]
  },
  {
   "cell_type": "code",
   "execution_count": null,
   "metadata": {},
   "outputs": [],
   "source": []
  }
 ],
 "metadata": {
  "kernelspec": {
   "display_name": "Python 3",
   "language": "python",
   "name": "python3"
  },
  "language_info": {
   "codemirror_mode": {
    "name": "ipython",
    "version": 3
   },
   "file_extension": ".py",
   "mimetype": "text/x-python",
   "name": "python",
   "nbconvert_exporter": "python",
   "pygments_lexer": "ipython3",
   "version": "3.13.0"
  }
 },
 "nbformat": 4,
 "nbformat_minor": 2
}
