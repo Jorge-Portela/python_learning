{
 "cells": [
  {
   "cell_type": "markdown",
   "metadata": {},
   "source": [
    "# Exercícios\n",
    "\n",
    "## 1. Criando um Registro de Hóspedes\n",
    "\n",
    "Digamos que você está criando o sistema para registrar a chegada de hóspedes em um hotel. No hotel, os hóspedes podem ter quartos com 1, 2, 3 e 4 pessoas. Seu sistema deve conseguir:\n",
    "\n",
    "1. Identificar quantas pessoas o hóspede que acabou de chegar vai ter no quarto (perguntando por meio de input)\n",
    "2. De acordo com a quantidade de pessoas do hóspede, ele deve fazer um for para perguntar o cpf e o nome de cada pessoa, a fim de registrá-la no quarto (2 inputs para cada pessoa, 1 para o cpf e outro para o nome)\n",
    "3. O seu programa então deve gerar uma lista com todas as pessoas que ficarão no quarto em que cada item dessa lista é o nome da pessoa e o cpf da pessoa, assim:"
   ]
  },
  {
   "cell_type": "raw",
   "metadata": {},
   "source": [
    "quarto = [\n",
    "    ['João', 'cpf:00000000000'],\n",
    "    ['Julia', 'cpf:11111111111'],\n",
    "    ['Marcus', 'cpf:22222222222'],\n",
    "    ['Maria', 'cpf:33333333333'],\n",
    "]"
   ]
  },
  {
   "cell_type": "markdown",
   "metadata": {},
   "source": [
    "- Para simplificar, não vamos nos preocupar com possibilidades de \"tentar colocar mais de 1 hóspede, digitar o cpf errado, etc. Nosso objetivo é treinar a criação de uma rotina de cadastro"
   ]
  },
  {
   "cell_type": "code",
   "execution_count": 12,
   "metadata": {},
   "outputs": [
    {
     "name": "stdin",
     "output_type": "stream",
     "text": [
      "Quantas pessoas hospedrão no quarto?  2\n",
      "Insira o nome do hospede numero 1:  João\n",
      "Insira o CPF do hospede numero 1:  111111111111\n",
      "Insira o nome do hospede numero 2:  Maicon\n",
      "Insira o CPF do hospede numero 2:  3333333333\n"
     ]
    },
    {
     "name": "stdout",
     "output_type": "stream",
     "text": [
      "[['Nome: João', 'CPF: 111111111111'], ['Nome: Maicon', 'CPF: 3333333333']]\n"
     ]
    }
   ],
   "source": [
    "qtd_hosp = int(input('Quantas pessoas hospedrão no quarto? '))\n",
    "\n",
    "quarto = []\n",
    "for i in range(qtd_hosp):\n",
    "    nome = input('Insira o nome do hospede numero {}: '.format(i+1))\n",
    "    cpf = input('Insira o CPF do hospede numero {}: '.format(i+1))\n",
    "    hospede = ['Nome: {}'.format(nome),'CPF: {}'.format(cpf)]\n",
    "    quarto.append(hospede)\n",
    "print(quarto)"
   ]
  },
  {
   "cell_type": "markdown",
   "metadata": {},
   "source": [
    "## 2. Análise de Vendas\n",
    "\n",
    "Nesse exercício vamos fazer uma \"análise simples\" de atingimento de Meta.\n",
    "\n",
    "Temos uma lista com os vendedores e os valores de vendas e queremos identificar (printar) quais os vendedores que bateram a meta e qual foi o valor que eles venderam."
   ]
  },
  {
   "cell_type": "code",
   "execution_count": 30,
   "metadata": {},
   "outputs": [
    {
     "name": "stdout",
     "output_type": "stream",
     "text": [
      "O vendedor João bateu a meta com o valor de $ 15000 em vendas.\n",
      "O vendedor Julia bateu a meta com o valor de $ 27000 em vendas.\n",
      "O vendedor Ana bateu a meta com o valor de $ 10300 em vendas.\n"
     ]
    }
   ],
   "source": [
    "meta = 10000\n",
    "vendas = [\n",
    "    ['João', 15000],\n",
    "    ['Julia', 27000],\n",
    "    ['Marcus', 9900],\n",
    "    ['Maria', 3750],\n",
    "    ['Ana', 10300],\n",
    "    ['Alon', 7870],\n",
    "]\n",
    "#seu código aqui\n",
    "\n",
    "for venda in vendas:\n",
    "    if venda[1] >= meta:\n",
    "        print('O vendedor {} bateu a meta com o valor de $ {} em vendas.'.format(venda[0],venda[1]))"
   ]
  },
  {
   "cell_type": "markdown",
   "metadata": {},
   "source": [
    "## 3. Comparação com Ano Anterior\n",
    "\n",
    "Digamos que você está analisando as vendas de produtos de um ecommerce e quer identificar quais produtos tiveram no ano de 2020 mais vendas do que no ano de 2019, para reportar isso para a diretoria.\n",
    "\n",
    "Sua resposta pode ser um print de cada produto, qual foi a venda de 2019, a venda de 2020 e o % de crescimento de 2020 para 2019.\n",
    "\n",
    "Lembrando, para calcular o % de crescimento de um produto de um ano para o outro, podemos fazer: (vendas_produto2020/vendas_produto2019 - 1)\n",
    "\n",
    "Dica: lembre do enumerate, ele pode facilitar seu \"for\""
   ]
  },
  {
   "cell_type": "code",
   "execution_count": 30,
   "metadata": {},
   "outputs": [
    {
     "name": "stdout",
     "output_type": "stream",
     "text": [
      "O produto iphone teve $ 558147 vendas em 2019 e $ 951642 vendas 2020, com a taxa de crescimento de 70.5%.\n",
      "O produto tv teve $ 405252 vendas em 2019 e $ 787604 vendas 2020, com a taxa de crescimento de 94.3%.\n",
      "O produto máquina de café teve $ 718654 vendas em 2019 e $ 867660 vendas 2020, com a taxa de crescimento de 20.7%.\n",
      "O produto notebook dell teve $ 422760 vendas em 2019 e $ 694913 vendas 2020, com a taxa de crescimento de 64.4%.\n",
      "O produto notebook hp teve $ 154753 vendas em 2019 e $ 539704 vendas 2020, com a taxa de crescimento de 248.8%.\n",
      "O produto microsoft surface teve $ 438508 vendas em 2019 e $ 667179 vendas 2020, com a taxa de crescimento de 52.1%.\n",
      "O produto webcam teve $ 237467 vendas em 2019 e $ 295633 vendas 2020, com a taxa de crescimento de 24.5%.\n",
      "O produto caixa de som teve $ 489705 vendas em 2019 e $ 725316 vendas 2020, com a taxa de crescimento de 48.1%.\n",
      "O produto microfone teve $ 328311 vendas em 2019 e $ 644622 vendas 2020, com a taxa de crescimento de 96.3%.\n",
      "O produto câmera canon teve $ 591120 vendas em 2019 e $ 994303 vendas 2020, com a taxa de crescimento de 68.2%.\n"
     ]
    }
   ],
   "source": [
    "produtos = ['iphone', 'galaxy', 'ipad', 'tv', 'máquina de café', 'kindle', 'geladeira', 'adega', 'notebook dell', 'notebook hp', 'notebook asus', 'microsoft surface', 'webcam', 'caixa de som', 'microfone', 'câmera canon']\n",
    "vendas2019 = [558147,712350,573823,405252,718654,531580,973139,892292,422760,154753,887061,438508,237467,489705,328311,591120]\n",
    "vendas2020 = [951642,244295,26964,787604,867660,78830,710331,646016,694913,539704,324831,667179,295633,725316,644622,994303]\n",
    "#seu código aqui\n",
    "\n",
    "for i,produto in enumerate(produtos):\n",
    "    if vendas2020[i] > vendas2019[i]:\n",
    "        crescimento = (vendas2020[i]/vendas2019[i]-1)\n",
    "        print('O produto {} teve $ {:} vendas em 2019 e $ {:} vendas 2020, com a taxa de crescimento de {:.1%}.'.format(produto,vendas2019[i],vendas2020[i],crescimento))"
   ]
  },
  {
   "cell_type": "code",
   "execution_count": null,
   "metadata": {},
   "outputs": [],
   "source": []
  }
 ],
 "metadata": {
  "kernelspec": {
   "display_name": "Python 3 (ipykernel)",
   "language": "python",
   "name": "python3"
  },
  "language_info": {
   "codemirror_mode": {
    "name": "ipython",
    "version": 3
   },
   "file_extension": ".py",
   "mimetype": "text/x-python",
   "name": "python",
   "nbconvert_exporter": "python",
   "pygments_lexer": "ipython3",
   "version": "3.12.7"
  }
 },
 "nbformat": 4,
 "nbformat_minor": 4
}
