{
 "cells": [
  {
   "cell_type": "markdown",
   "metadata": {},
   "source": [
    "# Exercícios\n",
    "\n",
    "## 1. Faturamento do Melhor e do Pior Mês do Ano\n",
    "\n",
    "Qual foi o valor de vendas do melhor mês do Ano?\n",
    "E valor do pior mês do ano?"
   ]
  },
  {
   "cell_type": "code",
   "execution_count": 38,
   "metadata": {},
   "outputs": [
    {
     "name": "stdout",
     "output_type": "stream",
     "text": [
      "A melhor venda do ano foi: 49051.\n",
      "A pior venda do ano foi: 9650.\n"
     ]
    }
   ],
   "source": [
    "meses = ['jan', 'fev', 'mar', 'abr', 'mai', 'jun', 'jul', 'ago', 'set', 'out', 'nov', 'dez']\n",
    "vendas_1sem = [25000, 29000, 22200, 17750, 15870, 19900]\n",
    "vendas_2sem = [19850, 20120, 17540, 15555, 49051, 9650]\n",
    "\n",
    "vendas_anual = vendas_1sem + vendas_2sem\n",
    "\n",
    "pior_venda = min(vendas_anual)\n",
    "melhor_venda = max(vendas_anual)\n",
    "\n",
    "i = vendas_anual.index(pior_venda)\n",
    "j = vendas_anual.index(melhor_venda)\n",
    "\n",
    "pior_vendas_mes = meses[i]\n",
    "melhor_vendas_mes = meses[j]\n",
    "print('A melhor venda do ano foi: {}.'.format(melhor_venda))\n",
    "print('A pior venda do ano foi: {}.'.format(pior_venda))\n",
    " \n"
   ]
  },
  {
   "cell_type": "markdown",
   "metadata": {},
   "source": [
    "## 2. Continuação\n",
    "\n",
    "Agora relacione as duas listas para printar 'O melhor mês do ano foi {} com {} vendas' e o mesmo para o pior mês do ano.\n",
    "\n",
    "Calcule também o faturamento total do Ano e quanto que o melhor mês representou do faturamento total.\n",
    "\n",
    "Obs: Para o faturamento total, pode usar a função sum(lista) que soma todos os itens de uma lista"
   ]
  },
  {
   "cell_type": "code",
   "execution_count": 39,
   "metadata": {},
   "outputs": [
    {
     "name": "stdout",
     "output_type": "stream",
     "text": [
      "O melhor mês do ano foi nov com 49051 vendas.\n",
      "O pior mês do ano foi dez com 9650 vendas.\n",
      "O faturamento de vendas do ano foi 261486.\n",
      "A margem da melhor venda do mes no faturamento foi de 18.8%.\n"
     ]
    }
   ],
   "source": [
    "print(f'O melhor mês do ano foi {melhor_vendas_mes} com {melhor_venda} vendas.')\n",
    "print(f'O pior mês do ano foi {pior_vendas_mes} com {pior_venda} vendas.')\n",
    "\n",
    "faturamento_ano = sum(vendas_anual)\n",
    "print(f'O faturamento de vendas do ano foi {faturamento_ano}.')\n",
    "\n",
    "margem_melhor_venda_mes = melhor_venda / faturamento_ano\n",
    "print('A margem da melhor venda do mes no faturamento foi de {:.1%}.'.format(margem_melhor_venda_mes))\n"
   ]
  },
  {
   "cell_type": "markdown",
   "metadata": {},
   "source": [
    "## 3. Crie uma lista com o top 3 valores de vendas do ano (sem fazer \"no olho\")\n",
    "\n",
    "Dica: o método remove retira um item da lista."
   ]
  },
  {
   "cell_type": "code",
   "execution_count": 42,
   "metadata": {},
   "outputs": [
    {
     "name": "stdout",
     "output_type": "stream",
     "text": [
      "[22200, 19850, 17540, 15870, 15555, 9650]\n",
      "As top 3 vendas foram \n",
      "[15555, 17540, 22200]\n"
     ]
    }
   ],
   "source": [
    "vendas_anual.sort(reverse=True)\n",
    "print(vendas_anual)\n",
    "\n",
    "melhor1 = vendas_anual.pop(0)\n",
    "melhor2 = vendas_anual.pop(1)\n",
    "melhor3 = vendas_anual.pop(2)\n",
    "\n",
    "top3 = [melhor1,melhor2,melhor3]\n",
    "top3.sort()\n",
    "\n",
    "print('As top 3 vendas foram ')\n",
    "print(top3)"
   ]
  },
  {
   "cell_type": "code",
   "execution_count": null,
   "metadata": {},
   "outputs": [],
   "source": []
  }
 ],
 "metadata": {
  "kernelspec": {
   "display_name": "Python 3",
   "language": "python",
   "name": "python3"
  },
  "language_info": {
   "codemirror_mode": {
    "name": "ipython",
    "version": 3
   },
   "file_extension": ".py",
   "mimetype": "text/x-python",
   "name": "python",
   "nbconvert_exporter": "python",
   "pygments_lexer": "ipython3",
   "version": "3.13.0"
  }
 },
 "nbformat": 4,
 "nbformat_minor": 4
}
