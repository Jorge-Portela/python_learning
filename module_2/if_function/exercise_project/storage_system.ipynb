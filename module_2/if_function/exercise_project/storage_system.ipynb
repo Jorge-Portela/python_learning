{
 "cells": [
  {
   "cell_type": "markdown",
   "metadata": {},
   "source": [
    "## 1. Criando um mini sistema de controle de estoque\n",
    "\n",
    "- Crie um sistema para ser usado pelo time de controle de estoque de um centro de distribuição.\n",
    "- Imagine que ao fim de todo dia, o time conta quantas unidades de produto existem no estoque. Se tivermos um estoque abaixo do estoque permitido para aquela categoria do produto, o time deve ser avisado (print) para fazer um novo pedido daquele produto.\n",
    "- Cada categoria de produto tem um estoque mínimo diferente, segundo a regra abaixo:\n",
    "\n",
    "- alimentos -> Estoque mínimo: 50\n",
    "- bebidas -> Estoque mínimo: 75\n",
    "- limpeza -> Estoque mínimo: 30\n",
    "\n",
    "Para isso vamos criar um programa que pede 3 inputs do usuário: nome do produto, categoria e quantidade atual em estoque.\n",
    "\n",
    "Se o produto tiver abaixo do estoque mínimo da categoria dele, o programa deve printar a mensagem \"Solicitar {produto} à equipe de compras, temos apenas {unidades} em estoque\"\n",
    "\n",
    "Exemplo: Se o usuário preenche os inputs com: bebidas, dolly, 90, o programa não deve exibir nenhuma mensagem.<br>\n",
    "Agora, se o usuário preenche os inputs com: bebidas, guaraná, 60, o programa deve exibir a mensagem \"Solicitar guaraná à equipe de compras, temos apenas 60 unidades em estoque.\n",
    "\n",
    "Obs: lembre de usar o int() para transformar o número inserido pelo usuário no input de string para int.<br>\n",
    "Obs2: Caso o usuário não preencha alguma das 3 informações, o programa deve exibir uma mensagem para avisá-lo de preencher corretamente."
   ]
  },
  {
   "cell_type": "code",
   "execution_count": 19,
   "metadata": {},
   "outputs": [
    {
     "name": "stdout",
     "output_type": "stream",
     "text": [
      "Request Cleaning to Purchasing team, we have only 12.\n"
     ]
    }
   ],
   "source": [
    "food_min_stor = 50\n",
    "drink_min_stor = 75\n",
    "cleaning_min_stor = 30\n",
    "\n",
    "name_product = input(\"Enter product name: \")\n",
    "if name_product == '':\n",
    "  input(\"Please fill the Product Name with letter\")\n",
    "else:\n",
    "  pass\n",
    "\n",
    "type_product = int(input(\"Enter product Type (1 - Food / 2 - Drink / 3 - Cleaning): \"))\n",
    "if type_product == '':\n",
    "  input(\"Please fill the Product Type (1 - Food / 2 - Drink / 3 - Cleaning): \")\n",
    "else:\n",
    "  pass\n",
    "\n",
    "amount_product = int(input(\"Enter Amount of product: \"))\n",
    "if amount_product == 0:\n",
    "  input(\"Please fill the Product Amount with numbers\")\n",
    "else:\n",
    "  pass\n",
    "\n",
    "#Food FieldProcessor\n",
    "if  type_product == 1:\n",
    "  type_product = \"Food\"\n",
    "  if amount_product < 50:\n",
    "    print(f\"Request {type_product} to Purchasing team, we have only {amount_product}.\")\n",
    "  else:\n",
    "    pass\n",
    "\n",
    "#Drink Field\n",
    "elif type_product == 2:\n",
    "  type_product = \"Drink\"\n",
    "  if amount_product < 75:\n",
    "    print(f\"Request {type_product} to Purchasing team, we have only {amount_product}.\")\n",
    "  else:\n",
    "    pass\n",
    "\n",
    "#Cleaning Field\n",
    "elif type_product == 3:\n",
    "  type_product = \"Cleaning\"\n",
    "  if amount_product < 30:\n",
    "    print(f\"Request {type_product} to Purchasing team, we have only {amount_product}.\")\n",
    "  else:\n",
    "    pass\n",
    "\n",
    "\n",
    "\n",
    "\n",
    "\n",
    "\n",
    "\n",
    "\n",
    "\n",
    "\n",
    "\n"
   ]
  },
  {
   "cell_type": "code",
   "execution_count": null,
   "metadata": {},
   "outputs": [],
   "source": []
  }
 ],
 "metadata": {
  "kernelspec": {
   "display_name": "Python 3",
   "language": "python",
   "name": "python3"
  },
  "language_info": {
   "codemirror_mode": {
    "name": "ipython",
    "version": 3
   },
   "file_extension": ".py",
   "mimetype": "text/x-python",
   "name": "python",
   "nbconvert_exporter": "python",
   "pygments_lexer": "ipython3",
   "version": "3.13.0"
  }
 },
 "nbformat": 4,
 "nbformat_minor": 2
}
