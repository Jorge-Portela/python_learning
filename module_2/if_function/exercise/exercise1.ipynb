{
 "cells": [
  {
   "cell_type": "markdown",
   "metadata": {},
   "source": [
    "## 1. Cálculo de Bônus\n",
    "\n",
    "- Crie um programa que calcule e dê um print no bônus que os funcionários devem receber segundo a regra:\n",
    "\n",
    "A meta é 1000 vendas.<br> \n",
    "Se o valor de vendas for maior ou igual a meta, o valor do bônus do funcionário é 10% do valor de vendas.<br>\n",
    "Caso contrário o valor de bônus do funcionário é 0.<br>\n",
    "Print o bônus dos 3 funcionários"
   ]
  },
  {
   "cell_type": "code",
   "execution_count": 1,
   "metadata": {},
   "outputs": [
    {
     "name": "stdout",
     "output_type": "stream",
     "text": [
      "Bonus of employee 1: $ 100.0\n"
     ]
    }
   ],
   "source": [
    "employee1_sell = 1000\n",
    "employee2_sell = 770\n",
    "employee3_sell = 2700\n",
    "target_sell = 1000\n",
    "\n",
    "if employee1_sell >= target_sell:\n",
    "  bonus = employee1_sell * 0.1\n",
    "else:\n",
    "  bonus = 0\n",
    "print(\"Bonus of employee 1: $ {}\".format(bonus))\n"
   ]
  },
  {
   "cell_type": "code",
   "execution_count": 2,
   "metadata": {},
   "outputs": [
    {
     "name": "stdout",
     "output_type": "stream",
     "text": [
      "Bonus of employee 2: $ 0\n"
     ]
    }
   ],
   "source": [
    "if employee2_sell >= target_sell:\n",
    "  bonus = employee2_sell * 0.1\n",
    "else:\n",
    "  bonus = 0\n",
    "print(\"Bonus of employee 2: $ {}\".format(bonus))\n"
   ]
  },
  {
   "cell_type": "code",
   "execution_count": 3,
   "metadata": {},
   "outputs": [
    {
     "name": "stdout",
     "output_type": "stream",
     "text": [
      "Bonus of employee 3: $ 270.0\n"
     ]
    }
   ],
   "source": [
    "if employee3_sell >= target_sell:\n",
    "  bonus = employee3_sell * 0.1\n",
    "else:\n",
    "  bonus = 0\n",
    "print(f\"Bonus of employee 3: $ {bonus}\")\n"
   ]
  },
  {
   "cell_type": "code",
   "execution_count": null,
   "metadata": {},
   "outputs": [],
   "source": []
  }
 ],
 "metadata": {
  "kernelspec": {
   "display_name": "Python 3",
   "language": "python",
   "name": "python3"
  },
  "language_info": {
   "codemirror_mode": {
    "name": "ipython",
    "version": 3
   },
   "file_extension": ".py",
   "mimetype": "text/x-python",
   "name": "python",
   "nbconvert_exporter": "python",
   "pygments_lexer": "ipython3",
   "version": "3.13.0"
  }
 },
 "nbformat": 4,
 "nbformat_minor": 2
}
