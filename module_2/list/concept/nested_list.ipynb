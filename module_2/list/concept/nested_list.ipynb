{
 "cells": [
  {
   "cell_type": "markdown",
   "metadata": {},
   "source": [
    "# Listas de Listas\n",
    "\n",
    "### Estrutura:\n",
    "\n",
    "Cada item de uma lista pode ser qualquer tipo de variável. Inclusive, uma lista.\n",
    "\n",
    "Quando dentro de uma lista temos cada item como sendo uma outra lista, temos uma \"nested list\", ou seja, uma lista de listas.\n",
    "\n",
    "Todas as regras de lista e tudo que vimos até agora funciona exatamente igual, mas vamos ver como isso funciona na prática"
   ]
  },
  {
   "cell_type": "code",
   "execution_count": 1,
   "metadata": {},
   "outputs": [],
   "source": [
    "vendedores = ['Lira', 'João', 'Diego', 'Alon']\n",
    "produtos = ['ipad', 'iphone']\n",
    "vendas = [\n",
    "    [100, 200],\n",
    "    [300, 500],\n",
    "    [50, 1000],\n",
    "    [900, 10],\n",
    "]"
   ]
  },
  {
   "cell_type": "markdown",
   "metadata": {},
   "source": [
    "- Quanto João vendeu de IPad?\n",
    "- Quanto Diego vendeu de IPhone\n",
    "- Qual o total de vendas de IPhone?"
   ]
  },
  {
   "cell_type": "code",
   "execution_count": 9,
   "metadata": {},
   "outputs": [
    {
     "name": "stdout",
     "output_type": "stream",
     "text": [
      "João vendeu vendeu 300 unidades de ipad.\n",
      "Diego vendeu vendeu 1000 unidades de iphone.\n",
      "O total de vendas de Iphone foi 1710.\n"
     ]
    }
   ],
   "source": [
    "#Vendas de Ipad de João\n",
    "vendas_ipad_joao = vendas[1][0]\n",
    "print('{} vendeu vendeu {} unidades de {}.'.format(vendedores[1],vendas_ipad_joao,produtos[0]))\n",
    "\n",
    "#Vendas de iphone de Diego\n",
    "vendas_iphone_diego = vendas[2][1]\n",
    "print('{} vendeu vendeu {} unidades de {}.'.format(vendedores[2],vendas_iphone_diego,produtos[1]))\n",
    "\n",
    "#Total de vendas de Iphone\n",
    "ventas_total_iphone = vendas[0][1] + vendas[1][1] + vendas[2][1] + vendas[3][1]\n",
    "print('O total de vendas de Iphone foi {}.'.format(ventas_total_iphone))"
   ]
  },
  {
   "cell_type": "markdown",
   "metadata": {},
   "source": [
    "- E se Lira na verdade fez apenas 50 vendas de IPhone, como eu modifico na minha lista o valor de vendas dele?"
   ]
  },
  {
   "cell_type": "code",
   "execution_count": 13,
   "metadata": {},
   "outputs": [
    {
     "name": "stdout",
     "output_type": "stream",
     "text": [
      "[[100, 50], [300, 500], [50, 1000], [900, 10]]\n"
     ]
    }
   ],
   "source": [
    "#Atualizar vendas de Iphone de Lira\n",
    "vendas_iphone_lira = vendas[0][1]\n",
    "vendas[0][1] = 50\n",
    "print(vendas)"
   ]
  },
  {
   "cell_type": "markdown",
   "metadata": {},
   "source": [
    "- E se agora eu tenho um novo produto 'mac', como eu adiciono as vendas em cada um dos vendedores?"
   ]
  },
  {
   "cell_type": "code",
   "execution_count": 17,
   "metadata": {},
   "outputs": [
    {
     "name": "stdout",
     "output_type": "stream",
     "text": [
      "[[100, 50, 75], [300, 500, 78], [50, 1000, 484], [900, 10, 166]]\n",
      "['ipad', 'iphone', 'mac', 'mac']\n"
     ]
    }
   ],
   "source": [
    "produtos.append('mac')\n",
    "\n",
    "vendas[0].append(75)\n",
    "vendas[1].append(78)\n",
    "vendas[2].append(484)\n",
    "vendas[3].append(166)\n",
    "print(vendas)\n",
    "print(produtos)"
   ]
  },
  {
   "cell_type": "code",
   "execution_count": null,
   "metadata": {},
   "outputs": [],
   "source": []
  }
 ],
 "metadata": {
  "kernelspec": {
   "display_name": "Python 3",
   "language": "python",
   "name": "python3"
  },
  "language_info": {
   "codemirror_mode": {
    "name": "ipython",
    "version": 3
   },
   "file_extension": ".py",
   "mimetype": "text/x-python",
   "name": "python",
   "nbconvert_exporter": "python",
   "pygments_lexer": "ipython3",
   "version": "3.13.0"
  }
 },
 "nbformat": 4,
 "nbformat_minor": 4
}
