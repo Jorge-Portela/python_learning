{
 "cells": [
  {
   "cell_type": "markdown",
   "id": "db8736f9-5431-4d54-b464-119ed28c5b0c",
   "metadata": {},
   "source": [
    " Hello World"
   ]
  },
  {
   "cell_type": "code",
   "execution_count": 18,
   "id": "74cb477f-5cb5-44c6-813d-ce81fede40bd",
   "metadata": {},
   "outputs": [],
   "source": [
    "income = 1900\n",
    "cost = 200"
   ]
  },
  {
   "cell_type": "code",
   "execution_count": 20,
   "id": "b477f73e-296c-46ee-bb71-6b10ff2a771e",
   "metadata": {},
   "outputs": [],
   "source": [
    "profit = income - cost"
   ]
  },
  {
   "cell_type": "code",
   "execution_count": 26,
   "id": "a80e2b0e-8f48-4600-8157-ac0f368c353f",
   "metadata": {},
   "outputs": [
    {
     "name": "stdout",
     "output_type": "stream",
     "text": [
      "The company profit is R$ 1700\n"
     ]
    }
   ],
   "source": [
    "print (\"The company profit is R$\", profit )"
   ]
  },
  {
   "cell_type": "code",
   "execution_count": null,
   "id": "4087418a-a6fc-43f5-9bed-a8fdd78c3123",
   "metadata": {},
   "outputs": [],
   "source": []
  }
 ],
 "metadata": {
  "kernelspec": {
   "display_name": "Python 3 (ipykernel)",
   "language": "python",
   "name": "python3"
  },
  "language_info": {
   "codemirror_mode": {
    "name": "ipython",
    "version": 3
   },
   "file_extension": ".py",
   "mimetype": "text/x-python",
   "name": "python",
   "nbconvert_exporter": "python",
   "pygments_lexer": "ipython3",
   "version": "3.12.7"
  }
 },
 "nbformat": 4,
 "nbformat_minor": 5
}
