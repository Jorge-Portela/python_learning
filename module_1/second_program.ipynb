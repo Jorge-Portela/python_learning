{
 "cells": [
  {
   "cell_type": "code",
   "execution_count": 80,
   "id": "0a967827-b1ec-4714-8991-25b0f48e75ee",
   "metadata": {},
   "outputs": [],
   "source": [
    "del input"
   ]
  },
  {
   "cell_type": "code",
   "execution_count": null,
   "id": "204767d5-2cf3-4003-82eb-536b1e85627c",
   "metadata": {},
   "outputs": [],
   "source": []
  },
  {
   "cell_type": "code",
   "execution_count": 95,
   "id": "44708de3-3d58-45cc-9664-0255e0f3b4be",
   "metadata": {},
   "outputs": [
    {
     "name": "stdin",
     "output_type": "stream",
     "text": [
      "Enter your name: Jorge\n"
     ]
    }
   ],
   "source": [
    "name = input(\"Enter your name:\")"
   ]
  },
  {
   "cell_type": "code",
   "execution_count": 111,
   "id": "c703643a-94b0-4977-a6cb-fee4d4d4073d",
   "metadata": {},
   "outputs": [
    {
     "name": "stdin",
     "output_type": "stream",
     "text": [
      "Enter your middle name: Phillip\n"
     ]
    }
   ],
   "source": [
    "middle_name = input(\"Enter your middle name:\")"
   ]
  },
  {
   "cell_type": "code",
   "execution_count": 105,
   "id": "e35c3d1d-6b24-4b9a-b672-4d95e5468828",
   "metadata": {},
   "outputs": [
    {
     "name": "stdin",
     "output_type": "stream",
     "text": [
      "Enter your last name: Portela\n"
     ]
    }
   ],
   "source": [
    "last_name = input(\"Enter your last name:\")"
   ]
  },
  {
   "cell_type": "code",
   "execution_count": 113,
   "id": "238f51bd-e28e-4487-b020-d13e7181876d",
   "metadata": {},
   "outputs": [
    {
     "name": "stdout",
     "output_type": "stream",
     "text": [
      "Your full name:  Jorge Phillip Portela\n"
     ]
    }
   ],
   "source": [
    "print (\"Your full name: \",name,middle_name, last_name)"
   ]
  },
  {
   "cell_type": "code",
   "execution_count": null,
   "id": "9ac3df17-24d6-4f71-97d5-0ca8fce8bbf9",
   "metadata": {},
   "outputs": [],
   "source": []
  }
 ],
 "metadata": {
  "kernelspec": {
   "display_name": "Python 3 (ipykernel)",
   "language": "python",
   "name": "python3"
  },
  "language_info": {
   "codemirror_mode": {
    "name": "ipython",
    "version": 3
   },
   "file_extension": ".py",
   "mimetype": "text/x-python",
   "name": "python",
   "nbconvert_exporter": "python",
   "pygments_lexer": "ipython3",
   "version": "3.12.7"
  }
 },
 "nbformat": 4,
 "nbformat_minor": 5
}
